{
  "nbformat": 4,
  "nbformat_minor": 0,
  "metadata": {
    "colab": {
      "provenance": [],
      "include_colab_link": true
    },
    "kernelspec": {
      "name": "python3",
      "display_name": "Python 3"
    },
    "language_info": {
      "name": "python"
    }
  },
  "cells": [
    {
      "cell_type": "markdown",
      "metadata": {
        "id": "view-in-github",
        "colab_type": "text"
      },
      "source": [
        "<a href=\"https://colab.research.google.com/github/aiting945/it945/blob/main/Colab_and_Gradio_Tutorial.ipynb\" target=\"_parent\"><img src=\"https://colab.research.google.com/assets/colab-badge.svg\" alt=\"Open In Colab\"/></a>"
      ]
    },
    {
      "cell_type": "markdown",
      "source": [
        "# Gradio Tutorial"
      ],
      "metadata": {
        "id": "B0Wy-ouJDCsp"
      }
    },
    {
      "cell_type": "markdown",
      "source": [
        "## Install Packages"
      ],
      "metadata": {
        "id": "Mfx97TLtPs7z"
      }
    },
    {
      "cell_type": "code",
      "source": [
        "!pip install gradio"
      ],
      "metadata": {
        "id": "aa0yVAzuQcUC"
      },
      "execution_count": null,
      "outputs": []
    },
    {
      "cell_type": "markdown",
      "source": [
        "## Import and Setup"
      ],
      "metadata": {
        "id": "GYJW8WC2QdZc"
      }
    },
    {
      "cell_type": "code",
      "source": [
        "import gradio as gr\n",
        "from typing import List, Tuple\n",
        "import numpy as np"
      ],
      "metadata": {
        "id": "Jt6EXRHkQkII"
      },
      "execution_count": null,
      "outputs": []
    },
    {
      "cell_type": "markdown",
      "source": [
        "## Run your code!"
      ],
      "metadata": {
        "id": "qH_4OkJUQpjq"
      }
    },
    {
      "cell_type": "code",
      "execution_count": null,
      "metadata": {
        "id": "jM5uD31QPMQw"
      },
      "outputs": [],
      "source": [
        "def reset() -> List:\n",
        "    return []\n",
        "\n",
        "def interact(chatbot: List[Tuple[str, str]], user_input: str) -> List[Tuple[str, str]]:\n",
        "    responses = [\"You are right\", \"HaHa\", \"I don't know\"]\n",
        "    response = np.random.choice(responses, 1)[0]\n",
        "    chatbot.append((user_input, response))\n",
        "\n",
        "    return chatbot\n",
        "\n",
        "\n",
        "with gr.Blocks() as demo:\n",
        "    gr.Markdown(f\"# Gradio Tutorial\")\n",
        "    chatbot = gr.Chatbot()\n",
        "    input_textbox = gr.Textbox(label=\"Input\", value = \"\")\n",
        "    with gr.Row():\n",
        "        sent_button = gr.Button(value=\"Send\")\n",
        "        reset_button = gr.Button(value=\"Reset\")\n",
        "    sent_button.click(interact, inputs=[chatbot, input_textbox], outputs=[chatbot])\n",
        "    reset_button.click(reset, outputs=[chatbot])\n",
        "\n",
        "\n",
        "demo.launch(debug = True)"
      ]
    }
  ]
}